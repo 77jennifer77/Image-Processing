{
 "cells": [
  {
   "cell_type": "markdown",
   "metadata": {},
   "source": [
    "# Difference of Gaussian Implementation\n",
    "\n",
    "A difference of guassian implementation with python and opencv\n",
    "\n",
    "## First step\n",
    "Choose an image to work with and generate the various scale spaces with\n",
    "Make sure you know which convolution kernel you want to use\n",
    "\n",
    "<div><u>Image we will be working with</u>: Felix the Cat</div>\n",
    "<div><u>Reasoning</u>: It was in my previous slides and its a black and white image so I don't have to greyscale it although I will go over doing DoG with colored images also since it is good to know</div>\n",
    "<u>Convolution kernel</u>: Guassian Blur"
   ]
  },
  {
   "cell_type": "code",
   "execution_count": 1,
   "metadata": {},
   "outputs": [],
   "source": [
    "import cv2"
   ]
  },
  {
   "cell_type": "code",
   "execution_count": 4,
   "metadata": {},
   "outputs": [],
   "source": [
    "# load the file/image so that we can access it\n",
    "image = cv2.imread(\"felix.png\")\n",
    "\n",
    "cv2.imshow('Original image of Felix the cat', image)\n",
    "cv2.waitKey(0)\n",
    "cv2.destroyAllWindows()"
   ]
  },
  {
   "cell_type": "code",
   "execution_count": 5,
   "metadata": {},
   "outputs": [],
   "source": [
    "grey = cv2.cvtColor(image, cv2.COLOR_BGR2GRAY)\n",
    "cv2.imshow('greyscale', grey)\n",
    "cv2.waitKey(0)\n",
    "cv2.destroyAllWindows()"
   ]
  },
  {
   "cell_type": "markdown",
   "metadata": {},
   "source": [
    "### *Note to self: when you change the mode it is lowercased 'm' for markdown\n",
    "\n",
    "## Second step: Apply Blur/varying filters to generate your scale space"
   ]
  },
  {
   "cell_type": "code",
   "execution_count": 17,
   "metadata": {},
   "outputs": [],
   "source": [
    "blurs = [(3,3), (5,5), (7,7), (9,9), (11,11)]\n",
    "result = []\n",
    "diff = []\n",
    "for blur in blurs:\n",
    "    result.append(cv2.GaussianBlur(image, blur, 0))\n",
    "    \n",
    "count = 0\n",
    "for item in result:\n",
    "    cv2.imshow('image'+str(count), item)\n",
    "    count = count + 1\n",
    "#     cv2.imshow('varying blurs '+str(result.index(item)), item)\n",
    "cv2.waitKey(0)\n",
    "cv2.destroyAllWindows()\n"
   ]
  },
  {
   "cell_type": "code",
   "execution_count": 13,
   "metadata": {},
   "outputs": [
    {
     "name": "stdout",
     "output_type": "stream",
     "text": [
      "[1, 2]\n",
      "[2, 3]\n",
      "[3, 4]\n",
      "[4, 5]\n"
     ]
    }
   ],
   "source": [
    "# working with consecutive elements in python example\n",
    "A = [1, 2, 3, 4, 5]\n",
    "for i in range(len(A) - 1):\n",
    "    value = A[i:i+2]\n",
    "    print(value)"
   ]
  },
  {
   "cell_type": "code",
   "execution_count": 18,
   "metadata": {},
   "outputs": [
    {
     "name": "stdout",
     "output_type": "stream",
     "text": [
      "5\n"
     ]
    }
   ],
   "source": [
    "for i in range(len(result)-1):\n",
    "    diff.append(result[i]-result[i+1])\n",
    "\n",
    "count = 0\n",
    "for item in diff:\n",
    "    cv2.imshow('dog'+str(count), item)\n",
    "    count = count + 1\n",
    "cv2.waitKey(0)\n",
    "cv2.destroyAllWindows()"
   ]
  },
  {
   "cell_type": "markdown",
   "metadata": {},
   "source": [
    "### Next step is to work in reducing the size of the images\n",
    "For SIFT 4 octaves and 5 blur levels are recommended \n",
    "although it also says that how many octaves you have depends on the size of your image"
   ]
  },
  {
   "cell_type": "code",
   "execution_count": 5,
   "metadata": {},
   "outputs": [
    {
     "name": "stdout",
     "output_type": "stream",
     "text": [
      "(198, 254, 3)\n",
      "Resized Dimensions :  (99, 127, 3)\n"
     ]
    }
   ],
   "source": [
    "# resize image practice\n",
    "img = cv2.imread('charizard.png')\n",
    "print(img.shape)\n",
    "# returns tuple of height, width, channels\n",
    "scale_percent = 50 # percent of original size\n",
    "# 50% of the original size is actually 1/4 the size of the original image, it was the dimensions that were halved\n",
    "width = int(img.shape[1] * scale_percent / 100)\n",
    "height = int(img.shape[0] * scale_percent / 100)\n",
    "dim = (width, height)\n",
    "# resize image\n",
    "resized = cv2.resize(img, dim, interpolation = cv2.INTER_AREA)\n",
    " \n",
    "print('Resized Dimensions : ',resized.shape)\n",
    "cv2.imshow('original', img)\n",
    "cv2.imshow(\"Resized image\", resized)\n",
    "cv2.waitKey(0)\n",
    "cv2.destroyAllWindows()"
   ]
  },
  {
   "cell_type": "markdown",
   "metadata": {},
   "source": [
    "### More resizing practice\n",
    "Worked as I thought, you are able to choose how you want it to be resized \n",
    "\n",
    "\n",
    "Did not follow the tutorial, but this is a good resource to keep in mind \n",
    "https://medium.com/@manivannan_data/resize-image-using-opencv-python-d2cdbbc480f0"
   ]
  },
  {
   "cell_type": "code",
   "execution_count": 6,
   "metadata": {},
   "outputs": [
    {
     "name": "stdout",
     "output_type": "stream",
     "text": [
      "Resized Dimensions :  (198, 127, 3)\n"
     ]
    }
   ],
   "source": [
    "# hot dog charizard\n",
    "scale = 50\n",
    "width = int(img.shape[1]*scale/100)\n",
    "dim = (width, img.shape[0])\n",
    "\n",
    "resized = cv2.resize(img, dim, interpolation = cv2.INTER_AREA)\n",
    " \n",
    "print('Resized Dimensions : ',resized.shape)\n",
    "cv2.imshow('original', img)\n",
    "cv2.imshow(\"Resized image\", resized)\n",
    "cv2.waitKey(0)\n",
    "cv2.destroyAllWindows()"
   ]
  },
  {
   "cell_type": "code",
   "execution_count": 7,
   "metadata": {},
   "outputs": [
    {
     "name": "stdout",
     "output_type": "stream",
     "text": [
      "Resized Dimensions :  (99, 254, 3)\n"
     ]
    }
   ],
   "source": [
    "# hamburger charizard\n",
    "height = int(img.shape[0]*scale/100)\n",
    "dim = (img.shape[1], height)\n",
    "\n",
    "resized = cv2.resize(img, dim, interpolation = cv2.INTER_AREA)\n",
    " \n",
    "print('Resized Dimensions : ',resized.shape)\n",
    "cv2.imshow('original', img)\n",
    "cv2.imshow(\"Resized image\", resized)\n",
    "cv2.waitKey(0)\n",
    "cv2.destroyAllWindows()"
   ]
  },
  {
   "cell_type": "markdown",
   "metadata": {},
   "source": [
    "### It says to double the image size for the first octave\n",
    "Each octave's image size is half the previous one. Within an octave, images are progressively blurred using the Gaussian Blur operator"
   ]
  },
  {
   "cell_type": "code",
   "execution_count": 11,
   "metadata": {},
   "outputs": [],
   "source": [
    "# this is the test code to generate blurs\n",
    "# apply guassian blur with the help of opencv\n",
    "low_sigma = cv2.GaussianBlur(image,(3,3),0)\n",
    "high_sigma = cv2.GaussianBlur(image,(5,5),0)\n",
    "more = cv2.GaussianBlur(image, (7,7),0)\n",
    "extreme = cv2.GaussianBlur(image, (9,9),0)\n",
    "further = cv2.GaussianBlur(image, (11,11),0)\n",
    "# Calculate the DoG by subtracting\n",
    "# dog = low_sigma - high_sigma\n",
    "# cv2.imshow('Blurred image of Felix', low_sigma)\n",
    "# cv2.imshow('Another blurred image of Felix', high_sigma)\n",
    "# cv2.imshow('Differece of Gaussian of Felix', dog)\n",
    "cv2.imshow('Original image of Felix the cat', image)\n",
    "# cv2.waitKey(0)\n",
    "cv2.imshow('gimme more', more)\n",
    "# cv2.waitKey(0) # waits until a key is pressed\n",
    "cv2.imshow('extreme', extreme)\n",
    "# cv2.waitKey(0) # waits until a key is pressed\n",
    "cv2.imshow('further', further)\n",
    "cv2.waitKey(0) # waits until a key is pressed\n",
    "cv2.destroyAllWindows() # destroys the window showing image"
   ]
  }
 ],
 "metadata": {
  "kernelspec": {
   "display_name": "Python 3",
   "language": "python",
   "name": "python3"
  },
  "language_info": {
   "codemirror_mode": {
    "name": "ipython",
    "version": 3
   },
   "file_extension": ".py",
   "mimetype": "text/x-python",
   "name": "python",
   "nbconvert_exporter": "python",
   "pygments_lexer": "ipython3",
   "version": "3.7.6"
  }
 },
 "nbformat": 4,
 "nbformat_minor": 4
}
