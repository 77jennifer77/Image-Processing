{
 "cells": [
  {
   "cell_type": "code",
   "execution_count": 1,
   "metadata": {},
   "outputs": [],
   "source": [
    "import cv2\n",
    "import numpy"
   ]
  },
  {
   "cell_type": "code",
   "execution_count": 11,
   "metadata": {},
   "outputs": [
    {
     "name": "stdout",
     "output_type": "stream",
     "text": [
      "(400, 468, 3)\n",
      "(936, 800)\n"
     ]
    }
   ],
   "source": [
    "img = cv2.imread('melon_cat.jpg')\n",
    "cv2.imshow('original', img)\n",
    "# cv2.waitKey(0)\n",
    "# receives height, width, channels\n",
    "print(img.shape)\n",
    "# goal is to have 4 octaves 5 blur levels\n",
    "# if original image is first doubled in size you produce 4x as many keypoints\n",
    "# pass back as width, height\n",
    "double = (img.shape[1]*2, img.shape[0]*2)\n",
    "print(double)\n",
    "# does more or less the same thing, didn't see a visible difference\n",
    "# img_doubled = cv2.resize(img, double, interpolation = cv2.INTER_LINEAR)\n",
    "img_doubled = cv2.resize(img, double)\n",
    "cv2.imshow('doubled in size', img_doubled)\n",
    "cv2.waitKey(0)\n",
    "cv2.destroyAllWindows()"
   ]
  },
  {
   "cell_type": "code",
   "execution_count": 19,
   "metadata": {},
   "outputs": [
    {
     "name": "stdout",
     "output_type": "stream",
     "text": [
      "5\n"
     ]
    }
   ],
   "source": [
    "img = cv2.imread('melon_cat.jpg')\n",
    "\n",
    "# each octaves image size is half of the original\n",
    "# let's say that octave_num is 1-4\n",
    "\n",
    "result = []\n",
    "\n",
    "def octave(octave_num):\n",
    "    # start off doubling image size for more key points\n",
    "    width = img.shape[1]*2\n",
    "    height = img.shape[0]*2\n",
    "    if octave_num == 1:\n",
    "        dim = (width, height)\n",
    "    else:\n",
    "        # image size is halved by each octave\n",
    "        new_width = int(width*(1/(2*octave_num)))\n",
    "        new_height = int(height*(1/(2*octave_num)))\n",
    "        dim = (new_width, new_height)\n",
    "    image = cv2.resize(img, dim)\n",
    "    blurs = [(3,3), (5,5), (7,7), (9,9), (11,11)]\n",
    "    count = 0\n",
    "    for blur in blurs:\n",
    "        result.append(cv2.GaussianBlur(image, blur, 0))\n",
    "\n",
    "    for item in result:\n",
    "        cv2.imshow('octave'+str(octave_num)+'blur'+str(count), item)\n",
    "        count = count + 1\n",
    "    print(count)\n",
    "    cv2.waitKey(0)\n",
    "    cv2.destroyAllWindows()\n",
    "octave(3)"
   ]
  },
  {
   "cell_type": "code",
   "execution_count": 21,
   "metadata": {},
   "outputs": [],
   "source": [
    "diff = []\n",
    "def DoG():\n",
    "    for i in range(len(result)-1):\n",
    "        diff.append(result[i]-result[i+1])\n",
    "\n",
    "    count = 0\n",
    "    for item in diff:\n",
    "        cv2.imshow('dog'+str(count), item)\n",
    "        count = count + 1\n",
    "    cv2.waitKey(0)\n",
    "    cv2.destroyAllWindows()\n",
    "DoG()"
   ]
  }
 ],
 "metadata": {
  "kernelspec": {
   "display_name": "Python 3",
   "language": "python",
   "name": "python3"
  },
  "language_info": {
   "codemirror_mode": {
    "name": "ipython",
    "version": 3
   },
   "file_extension": ".py",
   "mimetype": "text/x-python",
   "name": "python",
   "nbconvert_exporter": "python",
   "pygments_lexer": "ipython3",
   "version": "3.7.6"
  }
 },
 "nbformat": 4,
 "nbformat_minor": 4
}
