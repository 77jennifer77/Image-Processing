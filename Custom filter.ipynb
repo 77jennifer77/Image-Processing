{
 "cells": [
  {
   "cell_type": "markdown",
   "metadata": {},
   "source": [
    "## Applying linear filter"
   ]
  },
  {
   "cell_type": "code",
   "execution_count": 2,
   "metadata": {},
   "outputs": [],
   "source": [
    "import cv2;\n",
    "import numpy;"
   ]
  },
  {
   "cell_type": "code",
   "execution_count": 12,
   "metadata": {},
   "outputs": [
    {
     "name": "stdout",
     "output_type": "stream",
     "text": [
      "[[0, 1, 0], [1, 4, 1], [0, 1, 0]]\n",
      "<class 'list'>\n",
      "[[0 1 0]\n",
      " [1 4 1]\n",
      " [0 1 0]]\n",
      "<class 'numpy.ndarray'>\n"
     ]
    }
   ],
   "source": [
    "# 3*3 kernel for smoothing \n",
    "kernel = [[0, 1, 0], [1, 4, 1], [0, 1, 0]]\n",
    "print(kernel)\n",
    "print(type(kernel))\n",
    "k = numpy.array([[0,1,0], [1,4,1], [0,1,0]])\n",
    "print(k)\n",
    "print(type(k))"
   ]
  },
  {
   "cell_type": "code",
   "execution_count": 17,
   "metadata": {},
   "outputs": [],
   "source": [
    "# load image\n",
    "image = cv2.imread('charizard.png')\n",
    "cv2.imshow(\"Original image\", image)\n",
    "cv2.waitKey(0)\n",
    "cv2.destroyAllWindows()"
   ]
  },
  {
   "cell_type": "code",
   "execution_count": 18,
   "metadata": {},
   "outputs": [],
   "source": [
    "grey = cv2.cvtColor(image, cv2.COLOR_BGR2GRAY) \n",
    "cv2.imshow(\"greyscale\", grey)\n",
    "cv2.waitKey(0)\n",
    "cv2.destroyAllWindows()"
   ]
  },
  {
   "cell_type": "markdown",
   "metadata": {},
   "source": [
    "### Things to note about the filter2D option\n",
    "it takes a numpy array for the kernel"
   ]
  },
  {
   "cell_type": "code",
   "execution_count": 20,
   "metadata": {},
   "outputs": [],
   "source": [
    "# takes 3 params: source image, ddepth, kernel\n",
    "# ddepth is the depth of destination image -1 means the same as the original\n",
    "# filter = cv2.filter2D(image, -1, kernel)\n",
    "# only the wings show up, why?\n",
    "filter = cv2.filter2D(image, -1, k)\n",
    "cv2.imshow(\"Filtered image\", filter)\n",
    "cv2.waitKey(0)\n",
    "cv2.destroyAllWindows()"
   ]
  },
  {
   "cell_type": "code",
   "execution_count": 19,
   "metadata": {},
   "outputs": [],
   "source": [
    "# something is wrong, this shows nothing\n",
    "gfilter = cv2.filter2D(grey, -1, k)\n",
    "cv2.imshow(\"Filtered grey image\", gfilter)\n",
    "cv2.waitKey(0)\n",
    "cv2.destroyAllWindows()"
   ]
  },
  {
   "cell_type": "code",
   "execution_count": 3,
   "metadata": {},
   "outputs": [],
   "source": [
    "# trying an edge detection kernel\n",
    "# this one worked, maybe my previous kernel was faulty\n",
    "edge = numpy.array([[-1, -1, -1], [-1, 8, -1], [-1, -1, -1]])\n",
    "img = cv2.imread('felix.png')\n",
    "cv2.imshow('Original', img)\n",
    "cv2.waitKey(0)\n",
    "fil = cv2.filter2D(img, -1, edge)\n",
    "cv2.imshow('Edges of the image', fil)\n",
    "cv2.waitKey(0)\n",
    "cv2.destroyAllWindows()"
   ]
  },
  {
   "cell_type": "code",
   "execution_count": 13,
   "metadata": {},
   "outputs": [],
   "source": [
    "# testing sharpen kernel\n",
    "cath = cv2.imread('cathedral.jpg')\n",
    "# cv2.imshow('Original', cath)\n",
    "# cv2.waitKey(0)\n",
    "\n",
    "# original image is too big for me to see things clearly\n",
    "width = int(cath.shape[1]/3)\n",
    "height = int(cath.shape[0]/3)\n",
    "scale  = (width, height)\n",
    "scaleDown = cv2.resize(cath, scale)\n",
    "cv2.imshow('Resized', scaleDown)\n",
    "cv2.waitKey(0)\n",
    "\n",
    "# applying sharpen kernel\n",
    "sharpen = numpy.array([[0, -1, 0], [-1, 5, -1], [0, -1, 0]])\n",
    "conv = cv2.filter2D(scaleDown, -1, sharpen)\n",
    "cv2.imshow('Sharpen', conv)\n",
    "cv2.waitKey(0)\n",
    "cv2.destroyAllWindows()"
   ]
  }
 ],
 "metadata": {
  "kernelspec": {
   "display_name": "Python 3",
   "language": "python",
   "name": "python3"
  },
  "language_info": {
   "codemirror_mode": {
    "name": "ipython",
    "version": 3
   },
   "file_extension": ".py",
   "mimetype": "text/x-python",
   "name": "python",
   "nbconvert_exporter": "python",
   "pygments_lexer": "ipython3",
   "version": "3.7.6"
  }
 },
 "nbformat": 4,
 "nbformat_minor": 4
}
