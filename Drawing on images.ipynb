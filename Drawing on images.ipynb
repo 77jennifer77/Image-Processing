{
 "cells": [
  {
   "cell_type": "markdown",
   "metadata": {},
   "source": [
    "### How to draw shapes\n",
    "Followed opencv tutorial to draw\n",
    "https://docs.opencv.org/master/dc/da5/tutorial_py_drawing_functions.html"
   ]
  },
  {
   "cell_type": "code",
   "execution_count": 2,
   "metadata": {},
   "outputs": [],
   "source": [
    "# I'm more used to not having the 'as', but this was good to try\n",
    "import cv2 as cv\n",
    "import numpy as np"
   ]
  },
  {
   "cell_type": "code",
   "execution_count": 7,
   "metadata": {},
   "outputs": [],
   "source": [
    "# Create a black image\n",
    "img = np.zeros((512,512,3), np.uint8)\n",
    "\n",
    "# Draw a diagonal blue line with thickness of 5 px\n",
    "line = cv.line(img,(0,0),(511,511),(255,0,0),5)\n",
    "\n",
    "# drawing a rectangle\n",
    "rectangle = cv.rectangle(img,(384,0),(510,128),(0,255,0),3)\n",
    "\n",
    "# you can control if you want a full ellipse or just half, this example is just half of an ellipse\n",
    "ellipse = cv.ellipse(img,(256,256),(100,50),0,0,180,255,-1)\n",
    "\n",
    "# drawing a polygon\n",
    "pts = np.array([[10,5],[20,30],[70,20],[50,10]], np.int32)\n",
    "pts = pts.reshape((-1,1,2))\n",
    "polygon = cv.polylines(img,[pts],True,(0,255,255))\n",
    "\n",
    "# to draw text\n",
    "font = cv.FONT_HERSHEY_SIMPLEX\n",
    "text = cv.putText(img,'OpenCV',(10,500), font, 4,(255,255,255),2,cv.LINE_AA)\n",
    "\n",
    "circle = cv.circle(img,(447,63), 63, (0,0,255), -1)\n",
    "# I tell it to shoe circle since its the last thing I'm drawing\n",
    "cv.imshow('image', circle)\n",
    "cv.waitKey(0)\n",
    "cv.destroyAllWindows()"
   ]
  },
  {
   "cell_type": "markdown",
   "metadata": {},
   "source": [
    "### How to draw on an image\n",
    "https://pysource.com/2018/01/22/drawing-and-writing-on-images-opencv-3-4-with-python-3-tutorial-3/"
   ]
  },
  {
   "cell_type": "code",
   "execution_count": 16,
   "metadata": {},
   "outputs": [
    {
     "name": "stdout",
     "output_type": "stream",
     "text": [
      "image dimensions: (300, 500, 3)\n"
     ]
    }
   ],
   "source": [
    "import cv2;\n",
    "import numpy;\n",
    "\n",
    "original = cv2.imread('red_panda.jpg')\n",
    "image = cv2.imread('red_panda.jpg')\n",
    "shape = image.shape\n",
    "\n",
    "# color channels in order BGR (blue, green, red)\n",
    "blue = (255, 0, 0)\n",
    "red = (0, 0, 255)\n",
    "green = (0, 255, 0)\n",
    "violet = (180, 0, 180)\n",
    "yellow = (0, 180, 180)\n",
    "white = (255, 255, 255)\n",
    "\n",
    "cv2.line(image, (50, 30), (450, 35), blue, thickness=5)\n",
    "cv2.circle(image, (240, 205), 23, red, -1)\n",
    "cv2.rectangle(image, (50, 60), (450, 95), green, -1)\n",
    "cv2.ellipse(image, (250, 150), (80, 20), 5, 0, 360, violet, -1)\n",
    "points = np.array([[[140, 230], [380, 230], [320, 250], [250, 280]]], np.int32)\n",
    "cv2.polylines(image, [points], True, yellow, thickness=3)\n",
    "font = cv2.FONT_HERSHEY_COMPLEX\n",
    "cv2.putText(image, \"Panda\", (20, 180), font, 4, white)\n",
    "\n",
    "print('image dimensions:', shape)\n",
    "cv2.imshow('original', original)\n",
    "cv2.imshow('red panda', image)\n",
    "cv2.waitKey(0)\n",
    "cv2.destroyAllWindows()"
   ]
  }
 ],
 "metadata": {
  "kernelspec": {
   "display_name": "Python 3",
   "language": "python",
   "name": "python3"
  },
  "language_info": {
   "codemirror_mode": {
    "name": "ipython",
    "version": 3
   },
   "file_extension": ".py",
   "mimetype": "text/x-python",
   "name": "python",
   "nbconvert_exporter": "python",
   "pygments_lexer": "ipython3",
   "version": "3.7.6"
  }
 },
 "nbformat": 4,
 "nbformat_minor": 4
}
